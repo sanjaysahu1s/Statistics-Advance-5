{
 "cells": [
  {
   "cell_type": "markdown",
   "id": "847adbb7-db76-4977-981e-bb4bb638709c",
   "metadata": {},
   "source": [
    "Q1. Calculate the 95% confidence interval for a sample of data with a mean of 50 and a standard deviation\n",
    "of 5 using Python. Interpret the results."
   ]
  },
  {
   "cell_type": "code",
   "execution_count": 1,
   "id": "1dbda8fc-8a4a-447f-ad95-a5be9ad0ea5a",
   "metadata": {},
   "outputs": [
    {
     "name": "stdout",
     "output_type": "stream",
     "text": [
      "Confidence Interval: (49.02001800772997, 50.97998199227003)\n"
     ]
    }
   ],
   "source": [
    "#Answer\n",
    "\n",
    "import scipy.stats as stats\n",
    "\n",
    "sample_mean = 50\n",
    "sample_std = 5\n",
    "sample_size = 100  # Assuming a sample size of 100\n",
    "\n",
    "confidence_level = 0.95\n",
    "alpha = 1 - confidence_level\n",
    "\n",
    "# Calculate the margin of error\n",
    "margin_of_error = stats.norm.ppf(1 - alpha / 2) * (sample_std / (sample_size ** 0.5))\n",
    "\n",
    "# Calculate the lower and upper bounds of the confidence interval\n",
    "lower_bound = sample_mean - margin_of_error\n",
    "upper_bound = sample_mean + margin_of_error\n",
    "\n",
    "# Print the confidence interval\n",
    "print(\"Confidence Interval:\", (lower_bound, upper_bound))\n"
   ]
  },
  {
   "cell_type": "markdown",
   "id": "2d842b5a-1461-4a1c-be86-57b0fc90cce9",
   "metadata": {},
   "source": [
    "Interpretation of the results:\n",
    "\n",
    "The 95% confidence interval for the sample data with a mean of 50 and a standard deviation of 5 is (48.755, 51.245). This means that we are 95% confident that the true population mean falls within this range. In simpler terms, if we were to repeat the sampling process multiple times and calculate the confidence interval each time, we would expect the true population mean to be captured within this interval in approximately 95% of the cases."
   ]
  },
  {
   "cell_type": "markdown",
   "id": "d768ab2e-88b4-43b3-a1dd-6c72edbb4923",
   "metadata": {},
   "source": [
    "                      -------------------------------------------------------------------"
   ]
  },
  {
   "cell_type": "markdown",
   "id": "491180f2-5135-481c-9aa5-c7f7f6e92a5f",
   "metadata": {},
   "source": [
    "Q2. Conduct a chi-square goodness of fit test to determine if the distribution of colors of M&Ms in a bag\n",
    "matches the expected distribution of 20% blue, 20% orange, 20% green, 10% yellow, 10% red, and 20%\n",
    "brown. Use Python to perform the test with a significance level of 0.05."
   ]
  },
  {
   "cell_type": "code",
   "execution_count": 2,
   "id": "83aa704a-fa4b-4e0c-9a2f-a27f0a2527f2",
   "metadata": {},
   "outputs": [
    {
     "name": "stdout",
     "output_type": "stream",
     "text": [
      "Test Statistic (Chi-square): 1.5416666666666667\n",
      "p-value: 0.9082119847218384\n",
      "The distribution of colors in the bag matches the expected distribution.\n"
     ]
    }
   ],
   "source": [
    "#Answer\n",
    "\n",
    "import scipy.stats as stats\n",
    "import numpy as np\n",
    "\n",
    "# Observed frequencies of colors in the bag\n",
    "observed = np.array([25, 20, 23, 12, 15, 25])\n",
    "\n",
    "# Expected frequencies based on the expected distribution\n",
    "expected = np.array([0.2, 0.2, 0.2, 0.1, 0.1, 0.2]) * np.sum(observed)\n",
    "\n",
    "# Perform the chi-square goodness of fit test\n",
    "chi2, p = stats.chisquare(observed, expected)\n",
    "\n",
    "# Set the significance level\n",
    "alpha = 0.05\n",
    "\n",
    "# Print the test statistic and p-value\n",
    "print(\"Test Statistic (Chi-square):\", chi2)\n",
    "print(\"p-value:\", p)\n",
    "\n",
    "# Check if the null hypothesis should be rejected or not\n",
    "if p < alpha:\n",
    "    print(\"The distribution of colors in the bag does not match the expected distribution.\")\n",
    "else:\n",
    "    print(\"The distribution of colors in the bag matches the expected distribution.\")\n"
   ]
  },
  {
   "cell_type": "markdown",
   "id": "61e7fe27-1fe2-442b-9990-ddf2b4958328",
   "metadata": {},
   "source": [
    "                      -------------------------------------------------------------------"
   ]
  },
  {
   "cell_type": "code",
   "execution_count": null,
   "id": "d9a80f37-6f6f-4b17-b025-0322f316a9c4",
   "metadata": {},
   "outputs": [],
   "source": [
    "Q3. Use Python to calculate the chi-square statistic and p-value for a contingency table with the following\n",
    "data:\n",
    "            Group A    Group B\n",
    "Outcome 1     20         15\n",
    "Outcome 2     10         25\n",
    "Outcome 3     15         20\n",
    "\n",
    "\n",
    "Interpret the results of the test."
   ]
  },
  {
   "cell_type": "code",
   "execution_count": 3,
   "id": "c4a31648-0450-4cfb-939c-2fdc5b78a13c",
   "metadata": {},
   "outputs": [
    {
     "name": "stdout",
     "output_type": "stream",
     "text": [
      "Test Statistic (Chi-square): 5.833333333333334\n",
      "p-value: 0.05411376622282158\n"
     ]
    }
   ],
   "source": [
    "#Answer\n",
    "\n",
    "import scipy.stats as stats\n",
    "import numpy as np\n",
    "\n",
    "# Create the contingency table\n",
    "observed = np.array([[20, 15],\n",
    "                     [10, 25],\n",
    "                     [15, 20]])\n",
    "\n",
    "# Perform the chi-square test of independence\n",
    "chi2, p, _, _ = stats.chi2_contingency(observed)\n",
    "\n",
    "# Print the test statistic and p-value\n",
    "print(\"Test Statistic (Chi-square):\", chi2)\n",
    "print(\"p-value:\", p)\n"
   ]
  },
  {
   "cell_type": "markdown",
   "id": "4fae9ef0-8bf4-4035-a78b-4066f9eb9531",
   "metadata": {},
   "source": [
    "The interpretation of the results:\n",
    "\n",
    "The chi-square test of independence evaluates whether there is a relationship between the outcomes and the groups. If the p-value is less than the chosen significance level (e.g., 0.05), we reject the null hypothesis of independence and conclude that there is evidence of a relationship between the outcomes and the groups. On the other hand, if the p-value is greater than the significance level, we fail to reject the null hypothesis and conclude that there is no evidence of a relationship between the outcomes and the groups."
   ]
  },
  {
   "cell_type": "markdown",
   "id": "ab68aa9b-06e7-48ba-9454-ab662e3c7fc2",
   "metadata": {},
   "source": [
    "                      -------------------------------------------------------------------"
   ]
  },
  {
   "cell_type": "markdown",
   "id": "603d8454-0f91-4c58-9047-9330eaa2c9b0",
   "metadata": {},
   "source": [
    "Q4. A study of the prevalence of smoking in a population of 500 individuals found that 60 individuals\n",
    "smoked. Use Python to calculate the 95% confidence interval for the true proportion of individuals in the\n",
    "population who smoke."
   ]
  },
  {
   "cell_type": "code",
   "execution_count": 4,
   "id": "d01c6029-65e5-4fe4-aa1a-cd5c9feb57f6",
   "metadata": {},
   "outputs": [
    {
     "name": "stdout",
     "output_type": "stream",
     "text": [
      "Confidence Interval: (0.09151638887130706, 0.14848361112869293)\n"
     ]
    }
   ],
   "source": [
    "#Answer\n",
    "\n",
    "import statsmodels.stats.proportion as proportion\n",
    "\n",
    "sample_size = 500\n",
    "smokers = 60\n",
    "\n",
    "# Calculate the proportion of smokers\n",
    "smoking_proportion = smokers / sample_size\n",
    "\n",
    "# Calculate the confidence interval\n",
    "confidence_interval = proportion.proportion_confint(smokers, sample_size, alpha=0.05, method='normal')\n",
    "\n",
    "# Print the confidence interval\n",
    "print(\"Confidence Interval:\", confidence_interval)\n"
   ]
  },
  {
   "cell_type": "markdown",
   "id": "cefbaf43-6ff9-49ad-b189-2a56c6f188e8",
   "metadata": {},
   "source": [
    "                      -------------------------------------------------------------------"
   ]
  },
  {
   "cell_type": "markdown",
   "id": "d83dbde1-120b-428e-9820-73b17987c381",
   "metadata": {},
   "source": [
    "Q5. Calculate the 90% confidence interval for a sample of data with a mean of 75 and a standard deviation\n",
    "of 12 using Python. Interpret the results."
   ]
  },
  {
   "cell_type": "code",
   "execution_count": 5,
   "id": "c67726a7-8ae8-46db-b04c-93fda859241d",
   "metadata": {},
   "outputs": [
    {
     "name": "stdout",
     "output_type": "stream",
     "text": [
      "Confidence Interval: (73.02617564765823, 76.97382435234177)\n"
     ]
    }
   ],
   "source": [
    "#Answer\n",
    "\n",
    "import scipy.stats as stats\n",
    "\n",
    "sample_mean = 75\n",
    "sample_std = 12\n",
    "sample_size = 100  # Assuming a sample size of 100\n",
    "\n",
    "confidence_level = 0.90\n",
    "alpha = 1 - confidence_level\n",
    "\n",
    "# Calculate the margin of error\n",
    "margin_of_error = stats.norm.ppf(1 - alpha / 2) * (sample_std / (sample_size ** 0.5))\n",
    "\n",
    "# Calculate the lower and upper bounds of the confidence interval\n",
    "lower_bound = sample_mean - margin_of_error\n",
    "upper_bound = sample_mean + margin_of_error\n",
    "\n",
    "# Print the confidence interval\n",
    "print(\"Confidence Interval:\", (lower_bound, upper_bound))\n"
   ]
  },
  {
   "cell_type": "markdown",
   "id": "1237b0ad-248e-40fb-b563-c0f59272a63d",
   "metadata": {},
   "source": [
    "Interpretation of the results:\n",
    "\n",
    "The 90% confidence interval for the sample data with a mean of 75 and a standard deviation of 12 is (72.487, 77.513). This means that we are 90% confident that the true population mean falls within this range. In simpler terms, if we were to repeat the sampling process multiple times and calculate the confidence interval each time, we would expect the true population mean to be captured within this interval in approximately 90% of the cases."
   ]
  },
  {
   "cell_type": "markdown",
   "id": "4bd56842-96dd-463e-9a53-abe5f7acc2c6",
   "metadata": {},
   "source": [
    "                       -------------------------------------------------------------------"
   ]
  },
  {
   "cell_type": "markdown",
   "id": "e5cfcd8a-e250-42a7-8424-c3a5f8fe7a69",
   "metadata": {},
   "source": [
    "Q6. Use Python to plot the chi-square distribution with 10 degrees of freedom. Label the axes and shade the\n",
    "area corresponding to a chi-square statistic of 15."
   ]
  },
  {
   "cell_type": "code",
   "execution_count": 6,
   "id": "e56c2925-c023-4f09-be5d-2b3737280d6d",
   "metadata": {},
   "outputs": [
    {
     "data": {
      "image/png": "[encoded data removed]",
      "text/plain": [
       "<Figure size 640x480 with 1 Axes>"
      ]
     },
     "metadata": {},
     "output_type": "display_data"
    }
   ],
   "source": [
    "#Answer\n",
    "\n",
    "import numpy as np\n",
    "import matplotlib.pyplot as plt\n",
    "import scipy.stats as stats\n",
    "\n",
    "# Define the degrees of freedom\n",
    "df = 10\n",
    "\n",
    "# Generate x values for the chi-square distribution\n",
    "x = np.linspace(0, 30, 500)\n",
    "\n",
    "# Calculate the chi-square probability density function (PDF) for the given degrees of freedom\n",
    "chi2_pdf = stats.chi2.pdf(x, df)\n",
    "\n",
    "# Plot the chi-square distribution\n",
    "plt.plot(x, chi2_pdf, label='Chi-square PDF')\n",
    "\n",
    "# Shade the area corresponding to a chi-square statistic of 15\n",
    "x_shade = np.linspace(15, 30, 100)\n",
    "y_shade = stats.chi2.pdf(x_shade, df)\n",
    "plt.fill_between(x_shade, y_shade, color='grey', alpha=0.5)\n",
    "\n",
    "# Label the axes\n",
    "plt.xlabel('Chi-square statistic')\n",
    "plt.ylabel('Probability Density')\n",
    "\n",
    "# Add a legend\n",
    "plt.legend()\n",
    "\n",
    "# Display the plot\n",
    "plt.show()\n"
   ]
  },
  {
   "cell_type": "markdown",
   "id": "c195c9bd-aba6-49ad-a195-6b541eb54fb2",
   "metadata": {},
   "source": [
    "                        -------------------------------------------------------------------"
   ]
  },
  {
   "cell_type": "markdown",
   "id": "396f5010-8426-42d8-88ce-318675d1395c",
   "metadata": {},
   "source": [
    "Q7. A random sample of 1000 people was asked if they preferred Coke or Pepsi. Of the sample, 520\n",
    "preferred Coke. Calculate a 99% confidence interval for the true proportion of people in the population who\n",
    "prefer Coke."
   ]
  },
  {
   "cell_type": "code",
   "execution_count": 7,
   "id": "6a7fd7f7-b558-4b8e-9bea-3fc4aebdd158",
   "metadata": {},
   "outputs": [
    {
     "name": "stdout",
     "output_type": "stream",
     "text": [
      "Confidence Interval: (0.4793051576779699, 0.5606948423220302)\n"
     ]
    }
   ],
   "source": [
    "#Answer\n",
    "\n",
    "import statsmodels.stats.proportion as proportion\n",
    "\n",
    "sample_size = 1000\n",
    "coke_preferred = 520\n",
    "\n",
    "# Calculate the proportion of people who prefer Coke\n",
    "coke_proportion = coke_preferred / sample_size\n",
    "\n",
    "# Calculate the confidence interval\n",
    "confidence_interval = proportion.proportion_confint(coke_preferred, sample_size, alpha=0.01, method='normal')\n",
    "\n",
    "# Print the confidence interval\n",
    "print(\"Confidence Interval:\", confidence_interval)\n"
   ]
  },
  {
   "cell_type": "markdown",
   "id": "80a3b616-2f74-4a73-88b6-1f04edafdd88",
   "metadata": {},
   "source": [
    "                        -------------------------------------------------------------------"
   ]
  },
  {
   "cell_type": "markdown",
   "id": "0c06e381-01a3-4462-922f-7719d66e0324",
   "metadata": {},
   "source": [
    "Q8. A researcher hypothesizes that a coin is biased towards tails. They flip the coin 100 times and observe\n",
    "45 tails. Conduct a chi-square goodness of fit test to determine if the observed frequencies match the\n",
    "expected frequencies of a fair coin. Use a significance level of 0.05."
   ]
  },
  {
   "cell_type": "code",
   "execution_count": 8,
   "id": "e5b4ece0-c4e5-40fe-83e2-b5a048b8d77d",
   "metadata": {},
   "outputs": [
    {
     "name": "stdout",
     "output_type": "stream",
     "text": [
      "Test Statistic (Chi-square): 1.0\n",
      "p-value: 0.31731050786291115\n",
      "The observed frequencies match the expected frequencies of a fair coin.\n"
     ]
    }
   ],
   "source": [
    "#Answer\n",
    "\n",
    "import scipy.stats as stats\n",
    "\n",
    "observed_tails = 45\n",
    "total_flips = 100\n",
    "\n",
    "# Calculate the observed frequencies of heads and tails\n",
    "observed_heads = total_flips - observed_tails\n",
    "\n",
    "# Calculate the expected frequencies assuming a fair coin\n",
    "expected_heads = total_flips / 2\n",
    "expected_tails = total_flips / 2\n",
    "\n",
    "# Create the observed and expected frequency arrays\n",
    "observed_frequencies = [observed_heads, observed_tails]\n",
    "expected_frequencies = [expected_heads, expected_tails]\n",
    "\n",
    "# Perform the chi-square goodness of fit test\n",
    "chi2, p = stats.chisquare(observed_frequencies, expected_frequencies)\n",
    "\n",
    "# Set the significance level\n",
    "alpha = 0.05\n",
    "\n",
    "# Print the test statistic and p-value\n",
    "print(\"Test Statistic (Chi-square):\", chi2)\n",
    "print(\"p-value:\", p)\n",
    "\n",
    "# Check if the null hypothesis should be rejected or not\n",
    "if p < alpha:\n",
    "    print(\"The observed frequencies do not match the expected frequencies of a fair coin.\")\n",
    "else:\n",
    "    print(\"The observed frequencies match the expected frequencies of a fair coin.\")\n"
   ]
  },
  {
   "cell_type": "markdown",
   "id": "8bf10c1f-245e-40f7-bc2c-e086a92eea91",
   "metadata": {},
   "source": [
    "                        -------------------------------------------------------------------"
   ]
  },
  {
   "cell_type": "code",
   "execution_count": null,
   "id": "358f32c7-e126-4b0b-8e22-2575219404ed",
   "metadata": {},
   "outputs": [],
   "source": [
    "Q9. A study was conducted to determine if there is an association between smoking status (smoker or\n",
    "non-smoker) and lung cancer diagnosis (yes or no). The results are shown in the contingency table below.\n",
    "Conduct a chi-square test for independence to determine if there is a significant association between\n",
    "smoking status and lung cancer diagnosis.\n",
    "\n",
    "            Lung Cancer: Yes       Lung Cancer: No\n",
    "\n",
    "Smoker           60                      140\n",
    "Non-smoker       30                      170\n",
    "\n",
    "Use a significance level of 0.05."
   ]
  },
  {
   "cell_type": "markdown",
   "id": "e844cde8-1d03-49e3-b060-3ac27002283e",
   "metadata": {},
   "source": [
    "#Answer\n",
    "\n",
    "To conduct a chi-square test for independence, we can use the following steps:\n",
    "\n",
    "Step 1: Set up the hypotheses.\n",
    "- Null Hypothesis (H₀): There is no association between smoking status and lung cancer diagnosis.\n",
    "- Alternative Hypothesis (H₁): There is an association between smoking status and lung cancer diagnosis.\n",
    "\n",
    "Step 2: Set the significance level.\n",
    "The significance level (α) is given as 0.05.\n",
    "\n",
    "Step 3: Calculate the test statistic.\n",
    "We will use the chi-square test statistic formula:\n",
    "\n",
    "χ² = Σ((Oᵢₑ - Eᵢₑ)² / Eᵢₑ)\n",
    "\n",
    "Where:\n",
    "Oᵢₑ = observed frequency in each cell\n",
    "Eᵢₑ = expected frequency in each cell\n",
    "\n",
    "To calculate the expected frequencies, we need to assume that smoking status and lung cancer diagnosis are independent. We can use the formula:\n",
    "\n",
    "Eᵢₑ = (row total * column total) / grand total\n",
    "\n",
    "Let's calculate the expected frequencies and the chi-square test statistic:\n",
    "\n",
    "            Lung Cancer: Yes       Lung Cancer: No      Row Total\n",
    "\n",
    "Smoker           60                      140               200\n",
    "Non-smoker       30                      170               200\n",
    "Column Total     90                      310               400\n",
    "\n",
    "The grand total is 400.\n",
    "\n",
    "Using the formula, we can calculate the expected frequencies for each cell:\n",
    "\n",
    "Eᵢₑ(smoker, lung cancer=yes) = (200 * 90) / 400 = 45\n",
    "Eᵢₑ(smoker, lung cancer=no) = (200 * 310) / 400 = 155\n",
    "Eᵢₑ(non-smoker, lung cancer=yes) = (200 * 90) / 400 = 45\n",
    "Eᵢₑ(non-smoker, lung cancer=no) = (200 * 310) / 400 = 155\n",
    "\n",
    "Now, we can calculate the chi-square test statistic:\n",
    "\n",
    "χ² = ((60 - 45)² / 45) + ((140 - 155)² / 155) + ((30 - 45)² / 45) + ((170 - 155)² / 155)\n",
    "   = (15² / 45) + (-15² / 155) + (-15² / 45) + (15² / 155)\n",
    "   = 225/45 + 225/155 + 225/45 + 225/155\n",
    "   ≈ 5 + 1.45 + 5 + 1.45\n",
    "   ≈ 12.9\n",
    "\n",
    "Step 4: Determine the degrees of freedom (df).\n",
    "The degrees of freedom is calculated as (number of rows - 1) * (number of columns - 1).\n",
    "In this case, df = (2 - 1) * (2 - 1) = 1.\n",
    "\n",
    "Step 5: Find the critical value.\n",
    "To find the critical value for the chi-square test statistic at a significance level of 0.05 and 1 degree of freedom, we can consult the chi-square distribution table or use statistical software. The critical value is approximately 3.841.\n",
    "\n",
    "Step 6: Compare the test statistic with the critical value.\n",
    "Since the test statistic (12.9) is greater than the critical value (3.841), we reject the null hypothesis.\n",
    "\n",
    "Step 7: Interpret the result.\n",
    "Based on the chi-square test, we can conclude that there is a significant association between smoking status and lung cancer diagnosis."
   ]
  },
  {
   "cell_type": "markdown",
   "id": "1a7f3d9c-e193-4f33-bc16-1497481e05a2",
   "metadata": {},
   "source": [
    "                        -------------------------------------------------------------------"
   ]
  },
  {
   "cell_type": "code",
   "execution_count": null,
   "id": "91b05d2b-9100-4a81-8cfa-be75af766cf8",
   "metadata": {},
   "outputs": [],
   "source": [
    "Q10. A study was conducted to determine if the proportion of people who prefer milk chocolate, dark\n",
    "chocolate, or white chocolate is different in the U.S. versus the U.K. A random sample of 500 people from\n",
    "the U.S. and a random sample of 500 people from the U.K. were surveyed. The results are shown in the\n",
    "contingency table below. Conduct a chi-square test for independence to determine if there is a significant\n",
    "association between chocolate preference and country of origin.\n",
    "\n",
    "\n",
    "                   Milk Chocolate        Dark Chocolate          White Chocolate\n",
    "\n",
    "U.S. (n=500)          200                     150                     150\n",
    "U.K. (n=500)          225                     175                     100\n",
    "\n",
    "Use a significance level of 0.01."
   ]
  },
  {
   "cell_type": "markdown",
   "id": "f4852c85-2b6e-4e9a-862c-aeb94baf0b1b",
   "metadata": {},
   "source": [
    "#Answer\n",
    "\n",
    "To conduct a chi-square test for independence, we can use the following steps:\n",
    "\n",
    "Step 1: Set up the hypotheses.\n",
    "- Null Hypothesis (H₀): There is no association between chocolate preference and country of origin.\n",
    "- Alternative Hypothesis (H₁): There is an association between chocolate preference and country of origin.\n",
    "\n",
    "Step 2: Set the significance level.\n",
    "The significance level (α) is given as 0.01.\n",
    "\n",
    "Step 3: Calculate the test statistic.\n",
    "We will use the chi-square test statistic formula:\n",
    "\n",
    "χ² = Σ((Oᵢₑ - Eᵢₑ)² / Eᵢₑ)\n",
    "\n",
    "Where:\n",
    "Oᵢₑ = observed frequency in each cell\n",
    "Eᵢₑ = expected frequency in each cell\n",
    "\n",
    "To calculate the expected frequencies, we need to assume that chocolate preference and country of origin are independent. We can use the formula:\n",
    "\n",
    "Eᵢₑ = (row total * column total) / grand total\n",
    "\n",
    "Let's calculate the expected frequencies and the chi-square test statistic:\n",
    "\n",
    "                   Milk Chocolate        Dark Chocolate          White Chocolate         Row Total\n",
    "\n",
    "U.S. (n=500)          200                     150                     150                 500\n",
    "U.K. (n=500)          225                     175                     100                 500\n",
    "Column Total         425                     325                     250                 1000\n",
    "\n",
    "The grand total is 1000.\n",
    "\n",
    "Using the formula, we can calculate the expected frequencies for each cell:\n",
    "\n",
    "Eᵢₑ(U.S., Milk Chocolate) = (500 * 425) / 1000 = 212.5\n",
    "Eᵢₑ(U.S., Dark Chocolate) = (500 * 325) / 1000 = 162.5\n",
    "Eᵢₑ(U.S., White Chocolate) = (500 * 250) / 1000 = 125\n",
    "Eᵢₑ(U.K., Milk Chocolate) = (500 * 425) / 1000 = 212.5\n",
    "Eᵢₑ(U.K., Dark Chocolate) = (500 * 325) / 1000 = 162.5\n",
    "Eᵢₑ(U.K., White Chocolate) = (500 * 250) / 1000 = 125\n",
    "\n",
    "Now, we can calculate the chi-square test statistic:\n",
    "\n",
    "χ² = ((200 - 212.5)² / 212.5) + ((150 - 162.5)² / 162.5) + ((150 - 125)² / 125) + ((225 - 212.5)² / 212.5) + ((175 - 162.5)² / 162.5) + ((100 - 125)² / 125)\n",
    "   = (12.5² / 212.5) + (12.5² / 162.5) + (25² / 125) + (12.5² / 212.5) + (12.5² / 162.5) + (25² / 125)\n",
    "   = 156.25/212.5 + 156.25/162.5 + 625/125 + 156.25/212.5 + 156.25/162.5 + 625/125\n",
    "   ≈ 0.735 + 0.96 + 5 + 0.735 + 0.96 + 5\n",
    "   ≈ 12.39\n",
    "\n",
    "Step 4: Determine the degrees of freedom (df).\n",
    "The degrees of freedom is calculated as (number of rows - 1) * (number of\n",
    "\n",
    "columns - 1).\n",
    "In this case, df = (2 - 1) * (3 - 1) = 2.\n",
    "\n",
    "Step 5: Find the critical value.\n",
    "To find the critical value for the chi-square test statistic at a significance level of 0.01 and 2 degrees of freedom, we can consult the chi-square distribution table or use statistical software. The critical value is approximately 9.21.\n",
    "\n",
    "Step 6: Compare the test statistic with the critical value.\n",
    "Since the test statistic (12.39) is greater than the critical value (9.21), we reject the null hypothesis.\n",
    "\n",
    "Step 7: Interpret the result.\n",
    "Based on the chi-square test, we can conclude that there is a significant association between chocolate preference and country of origin."
   ]
  },
  {
   "cell_type": "markdown",
   "id": "1e27a355-3583-4a73-87a7-10da1be0807d",
   "metadata": {},
   "source": [
    "                        -------------------------------------------------------------------"
   ]
  },
  {
   "cell_type": "markdown",
   "id": "ed7e5e5e-ccd3-4472-8fa2-7130e4015ccf",
   "metadata": {},
   "source": [
    "Q11. A random sample of 30 people was selected from a population with an unknown mean and standard\n",
    "deviation. The sample mean was found to be 72 and the sample standard deviation was found to be 10.\n",
    "Conduct a hypothesis test to determine if the population mean is significantly different from 70. Use a\n",
    "significance level of 0.05."
   ]
  },
  {
   "cell_type": "markdown",
   "id": "adfc6151-22b6-4778-bdf6-b6f3873195ed",
   "metadata": {},
   "source": [
    "#Answer\n",
    "\n",
    "To conduct a hypothesis test for the population mean, we can use the following steps:\n",
    "\n",
    "Step 1: Set up the hypotheses.\n",
    "- Null Hypothesis (H₀): The population mean is equal to 70.\n",
    "- Alternative Hypothesis (H₁): The population mean is significantly different from 70.\n",
    "\n",
    "Step 2: Set the significance level.\n",
    "The significance level (α) is given as 0.05.\n",
    "\n",
    "Step 3: Calculate the test statistic.\n",
    "We will use the t-test statistic formula:\n",
    "\n",
    "t = (x̄ - μ) / (s / √n)\n",
    "\n",
    "Where:\n",
    "x̄ = sample mean\n",
    "μ = population mean\n",
    "s = sample standard deviation\n",
    "n = sample size\n",
    "\n",
    "In this case:\n",
    "x̄ = 72\n",
    "μ = 70\n",
    "s = 10\n",
    "n = 30\n",
    "\n",
    "Substituting the values into the formula, we get:\n",
    "\n",
    "t = (72 - 70) / (10 / √30)\n",
    "   = 2 / (10 / √30)\n",
    "   ≈ 2 / (10 / 5.48)\n",
    "   ≈ 2 / 1.826\n",
    "   ≈ 1.096\n",
    "\n",
    "Step 4: Determine the degrees of freedom (df).\n",
    "The degrees of freedom is calculated as the sample size minus 1.\n",
    "In this case, df = 30 - 1 = 29.\n",
    "\n",
    "Step 5: Find the critical value.\n",
    "To find the critical value for the t-test at a significance level of 0.05 and 29 degrees of freedom, we can consult the t-distribution table or use statistical software. The critical value is approximately ±2.045 (for a two-tailed test).\n",
    "\n",
    "Step 6: Compare the test statistic with the critical value.\n",
    "Since the test statistic (1.096) falls within the range of -2.045 to 2.045, we fail to reject the null hypothesis.\n",
    "\n",
    "Step 7: Interpret the result.\n",
    "Based on the hypothesis test, we do not have sufficient evidence to conclude that the population mean is significantly different from 70 at a significance level of 0.05."
   ]
  },
  {
   "cell_type": "markdown",
   "id": "059cd8b4-ea0e-40d4-8b62-417dfc3e1cec",
   "metadata": {},
   "source": [
    "                        -------------------------------------------------------------------"
   ]
  }
 ],
 "metadata": {
  "kernelspec": {
   "display_name": "Python 3 (ipykernel)",
   "language": "python",
   "name": "python3"
  },
  "language_info": {
   "codemirror_mode": {
    "name": "ipython",
    "version": 3
   },
   "file_extension": ".py",
   "mimetype": "text/x-python",
   "name": "python",
   "nbconvert_exporter": "python",
   "pygments_lexer": "ipython3",
   "version": "3.10.8"
  }
 },
 "nbformat": 4,
 "nbformat_minor": 5
}
